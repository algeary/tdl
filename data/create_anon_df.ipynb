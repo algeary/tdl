{
 "cells": [
  {
   "cell_type": "code",
   "execution_count": 111,
   "metadata": {},
   "outputs": [],
   "source": [
    "import pandas as pd"
   ]
  },
  {
   "attachments": {},
   "cell_type": "markdown",
   "metadata": {},
   "source": [
    "First, I will pull information from surveys tracking what tasks participants received, when, and where. This data will be re-formatted to include a task per row in data types that can be used for modelling later."
   ]
  },
  {
   "cell_type": "code",
   "execution_count": 112,
   "metadata": {},
   "outputs": [],
   "source": [
    "tasks = pd.read_csv('tasks.csv')\n",
    "tasks = tasks.rename(columns={tasks.columns[2]: 'tasks'})"
   ]
  },
  {
   "cell_type": "code",
   "execution_count": 113,
   "metadata": {},
   "outputs": [],
   "source": [
    "tasks['tasks'] = [t.split('\\n') for t in tasks['tasks']]"
   ]
  },
  {
   "cell_type": "code",
   "execution_count": 114,
   "metadata": {},
   "outputs": [],
   "source": [
    "tasks = tasks.explode('tasks').reset_index()"
   ]
  },
  {
   "cell_type": "code",
   "execution_count": 115,
   "metadata": {},
   "outputs": [],
   "source": [
    "tasks['tasks'] = [t.split(',') for t in tasks['tasks']]"
   ]
  },
  {
   "cell_type": "code",
   "execution_count": 116,
   "metadata": {},
   "outputs": [],
   "source": [
    "tasks['task_individual'] = [t[0] for t in tasks['tasks']]\n",
    "tasks['location'] = [t[1] for t in tasks['tasks']]\n",
    "tasks['time'] = [t[2] for t in tasks['tasks']]"
   ]
  },
  {
   "attachments": {},
   "cell_type": "markdown",
   "metadata": {},
   "source": [
    "Next, I will add survey information tracking participants' diagnoses and treatment plans to the existing dataframe. I will anonymize the data, so only anonymized data will be fed into the model. The original dataframes/csv files will be deleted once this section has been run."
   ]
  },
  {
   "cell_type": "code",
   "execution_count": 117,
   "metadata": {},
   "outputs": [],
   "source": [
    "diagnosis = pd.read_csv('diagnosis.csv')\n",
    "diagnosis = diagnosis.rename(columns={diagnosis.columns[2]: 'diagnosis', diagnosis.columns[3]: 'official_diagnosis', diagnosis.columns[4]: 'medication'})"
   ]
  },
  {
   "cell_type": "code",
   "execution_count": 118,
   "metadata": {},
   "outputs": [],
   "source": [
    "df = tasks.merge(diagnosis[['Email Address', 'diagnosis', 'official_diagnosis', 'medication']], how='left', on='Email Address')\n",
    "df['user_id'] = df.groupby('Email Address').ngroup()\n",
    "df = df[['Timestamp', 'user_id', 'diagnosis', 'official_diagnosis', 'medication', 'task_individual', 'location', 'time']]"
   ]
  },
  {
   "cell_type": "code",
   "execution_count": 119,
   "metadata": {},
   "outputs": [],
   "source": [
    "df.to_csv('anon_model_data.csv')"
   ]
  },
  {
   "cell_type": "code",
   "execution_count": null,
   "metadata": {},
   "outputs": [],
   "source": []
  }
 ],
 "metadata": {
  "kernelspec": {
   "display_name": "tdlvenv",
   "language": "python",
   "name": "python3"
  },
  "language_info": {
   "codemirror_mode": {
    "name": "ipython",
    "version": 3
   },
   "file_extension": ".py",
   "mimetype": "text/x-python",
   "name": "python",
   "nbconvert_exporter": "python",
   "pygments_lexer": "ipython3",
   "version": "3.8.2"
  },
  "orig_nbformat": 4
 },
 "nbformat": 4,
 "nbformat_minor": 2
}
